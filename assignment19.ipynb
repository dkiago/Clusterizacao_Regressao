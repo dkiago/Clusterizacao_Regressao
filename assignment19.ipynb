{
  "nbformat": 4,
  "nbformat_minor": 0,
  "metadata": {
    "colab": {
      "name": "assignment19.ipynb",
      "provenance": []
    },
    "kernelspec": {
      "name": "python3",
      "display_name": "Python 3"
    },
    "language_info": {
      "name": "python"
    }
  },
  "cells": [
    {
      "cell_type": "code",
      "metadata": {
        "id": "Hq_6GhX1N9jB"
      },
      "source": [
        "import numpy as np\n",
        "import pandas as pd"
      ],
      "execution_count": null,
      "outputs": []
    },
    {
      "cell_type": "code",
      "metadata": {
        "id": "fjruynHDUkd7"
      },
      "source": [
        "#ENDEREÇO PRA BAIXAR ESSA BASE: https://www.kaggle.com/arjunbhasin2013/ccdata\n",
        "teste = pd.read_csv('../input/ccdata/CC GENERAL.csv')\n",
        "teste.head()"
      ],
      "execution_count": null,
      "outputs": []
    },
    {
      "cell_type": "code",
      "metadata": {
        "id": "T579QeZiUnhR"
      },
      "source": [
        "teste.drop(columns='CUST_ID', inplace=True)\n",
        "teste.head()"
      ],
      "execution_count": null,
      "outputs": []
    },
    {
      "cell_type": "code",
      "metadata": {
        "id": "V5fr1TEzUn_p"
      },
      "source": [
        "teste.describe()"
      ],
      "execution_count": null,
      "outputs": []
    },
    {
      "cell_type": "code",
      "metadata": {
        "id": "65g4PrLoUoZN"
      },
      "source": [
        "teste['CREDIT_LIMIT'].fillna(50, inplace=True)\n",
        "teste.info()"
      ],
      "execution_count": null,
      "outputs": []
    },
    {
      "cell_type": "code",
      "metadata": {
        "id": "35EPaDc8UovX"
      },
      "source": [
        "teste['MINIMUM_PAYMENTS'].fillna(0.019163, inplace=True)\n",
        "teste.info()"
      ],
      "execution_count": null,
      "outputs": []
    },
    {
      "cell_type": "code",
      "metadata": {
        "id": "ej4era1QUpD9"
      },
      "source": [
        "teste.describe([.95])"
      ],
      "execution_count": null,
      "outputs": []
    },
    {
      "cell_type": "code",
      "metadata": {
        "id": "beQiN19gUpWM"
      },
      "source": [
        "teste = teste[teste['BALANCE'] < 5909.111808]\n",
        "teste = teste[teste['PURCHASES'] < 3998.619500]\n",
        "teste = teste[teste['MINIMUM_PAYMENTS'] < 2719.566935]\n",
        "teste = teste[teste['PAYMENTS'] < 6082.090595]\n",
        "teste = teste[teste['CREDIT_LIMIT'] < 12000.000000]\n",
        "teste = teste[teste['PURCHASES_TRX'] < 57.000000]\n",
        "teste = teste[teste['ONEOFF_PURCHASES'] < 2671.094000]\n",
        "teste = teste[teste['CASH_ADVANCE'] < 4647.169122]\n",
        "teste = teste[teste['CASH_ADVANCE_TRX'] < 15.000000]\n",
        "teste.info()"
      ],
      "execution_count": null,
      "outputs": []
    },
    {
      "cell_type": "code",
      "metadata": {
        "id": "2kpvQPfXUqnB"
      },
      "source": [
        "teste.describe()"
      ],
      "execution_count": null,
      "outputs": []
    },
    {
      "cell_type": "code",
      "metadata": {
        "id": "cnhBr8ZYVgUd"
      },
      "source": [
        "#NÃO TERMINEI PORQUE NÃO DEU TEMPO"
      ],
      "execution_count": null,
      "outputs": []
    }
  ]
}